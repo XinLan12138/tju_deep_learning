{
 "cells": [
  {
   "cell_type": "markdown",
   "metadata": {},
   "source": [
    "## SoftMax for MNIST  "
   ]
  },
  {
   "cell_type": "markdown",
   "metadata": {},
   "source": [
    "使用Numpy搭建，相比多个二分类器，显著提高了对于数字的分类成功率，发现loss在初期快速下降，最终实现了达92%的成功率，并画出了confusion matrix"
   ]
  },
  {
   "cell_type": "markdown",
   "metadata": {},
   "source": [
    "- 读取文件，划分将训练集进行划分"
   ]
  },
  {
   "cell_type": "code",
   "execution_count": 91,
   "metadata": {},
   "outputs": [],
   "source": [
    "import pickle\n",
    "import gzip\n",
    "import numpy as np\n",
    "import pandas as pd\n",
    "from sklearn.preprocessing import StandardScaler\n",
    "from matplotlib import pyplot as plt\n",
    "import os\n",
    "import numpy as np\n",
    "import seaborn as sns; sns.set()\n",
    "np.random.seed(666)"
   ]
  },
  {
   "cell_type": "markdown",
   "metadata": {},
   "source": [
    "### 数据与函数初始化 "
   ]
  },
  {
   "cell_type": "code",
   "execution_count": 92,
   "metadata": {},
   "outputs": [],
   "source": [
    "filename = '../../dataset/mnist/mnist.pkl.gz'\n",
    "f = gzip.open(filename, 'rb')\n",
    "training_data, validation_data, test_data = pickle.load(f, encoding='latin1')\n",
    "f.close()"
   ]
  },
  {
   "cell_type": "markdown",
   "metadata": {},
   "source": [
    "- 训练集基本情况"
   ]
  },
  {
   "cell_type": "code",
   "execution_count": 93,
   "metadata": {},
   "outputs": [
    {
     "name": "stdout",
     "output_type": "stream",
     "text": [
      "784\n"
     ]
    }
   ],
   "source": [
    "print(len(training_data[0][1]))"
   ]
  },
  {
   "cell_type": "code",
   "execution_count": 94,
   "metadata": {},
   "outputs": [
    {
     "data": {
      "text/plain": [
       "50000"
      ]
     },
     "execution_count": 94,
     "metadata": {},
     "output_type": "execute_result"
    }
   ],
   "source": [
    "len(training_data[:1][0])"
   ]
  },
  {
   "cell_type": "code",
   "execution_count": 95,
   "metadata": {},
   "outputs": [
    {
     "name": "stdout",
     "output_type": "stream",
     "text": [
      "[5 0 4 1 9]\n"
     ]
    }
   ],
   "source": [
    "# 前五个数据类别\n",
    "print(training_data[1][:5])"
   ]
  },
  {
   "cell_type": "code",
   "execution_count": 96,
   "metadata": {},
   "outputs": [
    {
     "name": "stdout",
     "output_type": "stream",
     "text": [
      "[0 1 2 3 4 5 6 7 8 9]\n"
     ]
    }
   ],
   "source": [
    "# 总的类别数\n",
    "classes = np.unique(training_data[1])\n",
    "print(classes)"
   ]
  },
  {
   "cell_type": "markdown",
   "metadata": {},
   "source": [
    "- 基本函数"
   ]
  },
  {
   "cell_type": "code",
   "execution_count": 97,
   "metadata": {},
   "outputs": [],
   "source": [
    "def one_hot_vect(tuple_data,classes):\n",
    "    one_hot_encoded=np.zeros((len(tuple_data[1]),len(classes)))\n",
    "    identity = np.identity(len(classes))\n",
    "    for i in range(len(tuple_data[1])):\n",
    "        one_hot_encoded[i] = np.add(one_hot_encoded[i],identity[tuple_data[1][i]])\n",
    "    return one_hot_encoded"
   ]
  },
  {
   "cell_type": "code",
   "execution_count": 98,
   "metadata": {},
   "outputs": [],
   "source": [
    "def softmax(weights,train_data):\n",
    "    bias = np.ones((np.shape(train_data)[0],1))\n",
    "    train_withBias = np.hstack((train_data,bias))\n",
    "    num = np.dot(weights,train_withBias.T)\n",
    "    num = np.subtract(num,np.max(num,axis=0))\n",
    "    num = np.exp(num)\n",
    "    # Fix softmax when using batch size 1 the dimension of deno changes\n",
    "    if(len(train_data) == 1):\n",
    "        den = np.sum(num,axis=0)\n",
    "    else:\n",
    "        den = np.sum(num,axis=1)\n",
    "        den = den.reshape((10,1))\n",
    "    return np.divide(num,den)"
   ]
  },
  {
   "cell_type": "code",
   "execution_count": 99,
   "metadata": {},
   "outputs": [],
   "source": [
    "def cross_entropy_error(predicted,target):\n",
    "    right = np.log(predicted+ 1/10**30)\n",
    "    loss = np.multiply(np.matrix(target),np.transpose(np.matrix(right)))\n",
    "    return -np.sum(np.sum(loss,axis=1),axis=0)\n",
    "\n",
    "def batch_gradient(predicted,train_data,target):\n",
    "    leftleft = np.transpose(predicted)\n",
    "    left = np.subtract(leftleft,target)\n",
    "    bias = np.ones((np.shape(train_data)[0],1))\n",
    "    train_withBias = np.hstack((train_data,bias))\n",
    "    gradient = np.dot(left.T,train_withBias)\n",
    "    gradient = gradient/len(train_data)\n",
    "    return np.matrix(gradient,dtype=\"float64\")"
   ]
  },
  {
   "cell_type": "code",
   "execution_count": 100,
   "metadata": {},
   "outputs": [],
   "source": [
    "def accuracy(predicted,target):\n",
    "    correct = 0\n",
    "    left = np.array(np.argmax(predicted,axis=0)).flatten()\n",
    "    right = np.argmax(target,axis=1)\n",
    "    confusion_mat = np.zeros((len(np.unique(right)),len(np.unique(left))))\n",
    "    for i in range(len(target)):\n",
    "        if(left[i] == right[i]):\n",
    "            correct+=1\n",
    "        confusion_mat[right[i]][left[i]] =confusion_mat[right[i]][left[i]] +1\n",
    "    return correct/len(target),pd.DataFrame(np.matrix(confusion_mat,dtype=\"int32\"))"
   ]
  },
  {
   "cell_type": "code",
   "execution_count": 101,
   "metadata": {},
   "outputs": [],
   "source": [
    "def more_metrics(conf_mat):\n",
    "    true_positives = 0\n",
    "    precision = []\n",
    "    recall = []\n",
    "    for i in range(len(conf_mat)):\n",
    "        true_positives += conf_mat.iloc[i,i]\n",
    "    conf_mat = np.matrix(conf_mat)\n",
    "    tp_fp = np.array(np.sum(conf_mat,axis=1)).ravel()\n",
    "    relevant_elements = np.array(np.sum(conf_mat,axis=0)).ravel()\n",
    "    for i in range(len(conf_mat)):\n",
    "        precision.append(conf_mat[i,i]/tp_fp[i])\n",
    "        recall.append(conf_mat[i,i]/relevant_elements[i])\n",
    "    return true_positives,precision,recall"
   ]
  },
  {
   "cell_type": "code",
   "execution_count": 102,
   "metadata": {},
   "outputs": [],
   "source": [
    "def epoch_shuffle(processed_train_data,target):\n",
    "    # Merge\n",
    "    trainDF = pd.DataFrame(processed_train_data)\n",
    "    targetDF = pd.DataFrame(target)\n",
    "    result = pd.concat([trainDF.reset_index(),targetDF.reset_index()],join='inner',axis=1)\n",
    "    result = result.sample(frac=1)\n",
    "    \n",
    "    return np.asarray(result.iloc[:,1:np.shape(trainDF)[1]+1]),np.asarray(result.iloc[:,np.shape(trainDF)[1]+2:])"
   ]
  },
  {
   "cell_type": "markdown",
   "metadata": {},
   "source": [
    "- 参数初始化"
   ]
  },
  {
   "cell_type": "code",
   "execution_count": 103,
   "metadata": {},
   "outputs": [],
   "source": [
    "weights = np.random.randn(len(classes), np.shape(training_data[0])[1]+1) * 0.001\n",
    "train_data = training_data[0]"
   ]
  },
  {
   "cell_type": "code",
   "execution_count": 104,
   "metadata": {},
   "outputs": [],
   "source": [
    "target = one_hot_vect(training_data,classes)\n",
    "target_val = one_hot_vect(validation_data,classes)\n",
    "target_test = one_hot_vect(test_data,classes)"
   ]
  },
  {
   "cell_type": "markdown",
   "metadata": {},
   "source": [
    "### 数据处理与训练 "
   ]
  },
  {
   "cell_type": "markdown",
   "metadata": {},
   "source": [
    "- 标准化归一"
   ]
  },
  {
   "cell_type": "code",
   "execution_count": 105,
   "metadata": {},
   "outputs": [],
   "source": [
    "scaler = StandardScaler()\n",
    "scaler.fit(train_data)\n",
    "processed_train_data = scaler.transform(train_data)\n",
    "scaler.fit(validation_data[0])\n",
    "processed_val_data = scaler.transform(validation_data[0])\n",
    "scaler.fit(test_data[0])\n",
    "processed_test_data = scaler.transform(test_data[0])"
   ]
  },
  {
   "cell_type": "code",
   "execution_count": 106,
   "metadata": {},
   "outputs": [],
   "source": [
    "batchSize = 1"
   ]
  },
  {
   "cell_type": "code",
   "execution_count": 107,
   "metadata": {},
   "outputs": [
    {
     "name": "stdout",
     "output_type": "stream",
     "text": [
      "Cost after Epoch: 444485.6081337412\n",
      "Val Acc: 0.9133\n",
      "Train Acc: 0.90652\n",
      "Cost after Epoch: 442570.49532211025\n",
      "Val Acc: 0.9199\n",
      "Train Acc: 0.91648\n",
      "Cost after Epoch: 441727.6346208149\n",
      "Val Acc: 0.9221\n",
      "Train Acc: 0.91986\n",
      "Cost after Epoch: 441178.8726038046\n",
      "Val Acc: 0.9242\n",
      "Train Acc: 0.9225\n",
      "Cost after Epoch: 440891.25808155054\n",
      "Val Acc: 0.9255\n",
      "Train Acc: 0.92362\n",
      "Cost after Epoch: 440567.9224549103\n",
      "Val Acc: 0.9258\n",
      "Train Acc: 0.92606\n",
      "Cost after Epoch: 440361.46788030525\n",
      "Val Acc: 0.9259\n",
      "Train Acc: 0.92696\n",
      "Cost after Epoch: 440192.3217471931\n",
      "Val Acc: 0.9274\n",
      "Train Acc: 0.92796\n",
      "Cost after Epoch: 440029.42622406536\n",
      "Val Acc: 0.9261\n",
      "Train Acc: 0.92856\n",
      "Cost after Epoch: 439932.5345147088\n",
      "Val Acc: 0.9261\n",
      "Train Acc: 0.92896\n",
      "Cost after Epoch: 439798.71011219424\n",
      "Val Acc: 0.9271\n",
      "Train Acc: 0.92992\n",
      "Cost after Epoch: 439742.1792981935\n",
      "Val Acc: 0.927\n",
      "Train Acc: 0.9301\n",
      "Cost after Epoch: 439612.34039200965\n",
      "Val Acc: 0.9272\n",
      "Train Acc: 0.93076\n",
      "Cost after Epoch: 439559.98509099515\n",
      "Val Acc: 0.927\n",
      "Train Acc: 0.93112\n",
      "Cost after Epoch: 439465.76814685523\n",
      "Val Acc: 0.9276\n",
      "Train Acc: 0.93234\n",
      "Cost after Epoch: 439392.3869750989\n",
      "Val Acc: 0.9282\n",
      "Train Acc: 0.93254\n"
     ]
    }
   ],
   "source": [
    "start = 0\n",
    "end = batchSize\n",
    "batches = len(processed_train_data)/batchSize\n",
    "weights = np.random.randn(len(classes), np.shape(training_data[0])[1]+1) * 0.001\n",
    "predicted = softmax(weights,processed_train_data[start:end,:])\n",
    "cost_initial = np.asscalar(cross_entropy_error(softmax(weights,processed_train_data),target))\n",
    "cost_new = cost_initial*0.1\n",
    "train_acc = 0\n",
    "log_training_loss =[]\n",
    "log_val_loss=[]\n",
    "log_training_acc =[]\n",
    "log_val_acc=[]\n",
    "logging=True\n",
    "while(cost_initial-cost_new > 10):\n",
    "    i = 0\n",
    "    start = 0\n",
    "    end = batchSize\n",
    "    while(i<batches-1):\n",
    "        #print(\"Percentage Done: \"+str(i/batches))\n",
    "        new_weights = batch_gradient(predicted,processed_train_data[start:end,:],target[start:end,:])\n",
    "        weights = weights - 0.0003*new_weights\n",
    "        if(logging and i%2500==0):\n",
    "            # Predict Train & Validation for these weights\n",
    "            predict_val = softmax(weights,processed_val_data)\n",
    "            # Calculate cost of predicting Validation and Training, To see if the hyper param are working\n",
    "            acc,_  = accuracy(predict_val,target_val)\n",
    "            log_val_acc.append(acc)\n",
    "            log_val_loss.append(np.asscalar(cross_entropy_error(predict_val,target_val)))\n",
    "            predict_train = softmax(weights,processed_train_data)\n",
    "            acc,_  = accuracy(predict_train,target)\n",
    "            log_training_acc.append(acc)\n",
    "            log_training_loss.append(np.asscalar(cross_entropy_error(predict_train,target)))\n",
    "        #print(\"Training Loss: \"+str(cost))\n",
    "        start = start + batchSize\n",
    "        end = end + batchSize\n",
    "        # New Prediction for the data\n",
    "        predicted = softmax(weights,processed_train_data[start:end,:])\n",
    "        i = i+1\n",
    "    cost_initital = cost_new\n",
    "    pred_train = softmax(weights,processed_train_data)\n",
    "    cost_new = np.asscalar(cross_entropy_error(pred_train,target))\n",
    "    predict_val = softmax(weights,processed_val_data)\n",
    "    val_acc,_ = accuracy(predict_val,target_val)\n",
    "    train_acc_old = train_acc\n",
    "    train_acc,_ = accuracy(pred_train,target)\n",
    "    if(float(train_acc) - float(train_acc_old) < 0.0000000001 ):\n",
    "        # Early stopping where just cost is changing but accuracy is stuck\n",
    "        break\n",
    "    print(\"Cost after Epoch: \"+str(cost_new))\n",
    "    print(\"Val Acc: \"+str(val_acc))\n",
    "    print(\"Train Acc: \"+str(train_acc))\n",
    "    processed_train_data,target = epoch_shuffle(processed_train_data,target)"
   ]
  },
  {
   "cell_type": "markdown",
   "metadata": {},
   "source": [
    "### 结果分析 "
   ]
  },
  {
   "cell_type": "code",
   "execution_count": 108,
   "metadata": {},
   "outputs": [
    {
     "data": {
      "image/png": "[encoded data removed]",
      "text/plain": [
       "<Figure size 576x288 with 1 Axes>"
      ]
     },
     "metadata": {},
     "output_type": "display_data"
    }
   ],
   "source": [
    "df = pd.DataFrame(log_val_acc)\n",
    "ax = df.plot(figsize=(8,4))\n",
    "ax.ticklabel_format(useOffset=False)\n",
    "plt.title('accuracy along with batch')\n",
    "plt.show(ax)"
   ]
  },
  {
   "cell_type": "code",
   "execution_count": 109,
   "metadata": {},
   "outputs": [
    {
     "data": {
      "image/png": "[encoded data removed]",
      "text/plain": [
       "<Figure size 576x288 with 1 Axes>"
      ]
     },
     "metadata": {},
     "output_type": "display_data"
    }
   ],
   "source": [
    "df = pd.DataFrame(log_val_loss)\n",
    "ax = df.plot(figsize=(8,4))\n",
    "ax.ticklabel_format(useOffset=False)\n",
    "plt.title('loss along with batch')\n",
    "plt.show(ax)"
   ]
  },
  {
   "cell_type": "code",
   "execution_count": 110,
   "metadata": {},
   "outputs": [],
   "source": [
    "predict_val = softmax(weights,processed_val_data)\n",
    "acc,conf_mat = accuracy(predict_val,target_val)"
   ]
  },
  {
   "cell_type": "code",
   "execution_count": 111,
   "metadata": {},
   "outputs": [
    {
     "name": "stdout",
     "output_type": "stream",
     "text": [
      "The Accuracy for Validation is: 0.9278\n",
      "The Precision & Recall is: \n",
      "      Recall  Precision\n",
      "0  97.275479  96.303696\n",
      "1  98.120301  93.548387\n",
      "2  90.505051  93.821990\n",
      "3  89.320388  91.360477\n",
      "4  94.506612  93.554884\n",
      "5  87.103825  89.249720\n",
      "6  96.794209  95.025381\n",
      "7  94.770642  93.146979\n",
      "8  88.107037  90.992835\n",
      "9  90.530697  90.248963\n"
     ]
    }
   ],
   "source": [
    "print(\"The Accuracy for Validation is: \"+str(acc))\n",
    "#print(\"The Confusion Matrix is: \")\n",
    "#print(pd.DataFrame(conf_mat))\n",
    "_,precision,recall = more_metrics(pd.DataFrame(conf_mat))\n",
    "print(\"The Precision & Recall is: \")\n",
    "df = pd.DataFrame(np.multiply(precision,100))\n",
    "df.columns = [\"Recall\"]\n",
    "df1 = pd.DataFrame(np.multiply(recall,100))\n",
    "df1.columns = [\"Precision\"]\n",
    "print(pd.concat([df,df1],axis=1))"
   ]
  },
  {
   "cell_type": "markdown",
   "metadata": {},
   "source": [
    "- Confusion Matrix"
   ]
  },
  {
   "cell_type": "code",
   "execution_count": 112,
   "metadata": {},
   "outputs": [
    {
     "data": {
      "image/png": "[encoded data removed]",
      "text/plain": [
       "<Figure size 576x468 with 2 Axes>"
      ]
     },
     "metadata": {},
     "output_type": "display_data"
    }
   ],
   "source": [
    "from IPython.core.pylabtools import figsize # import figsize\n",
    "figsize(8, 6.5) # 设置 figsize\n",
    "ax = sns.heatmap(conf_mat, annot=True, fmt=\"d\")"
   ]
  }
 ],
 "metadata": {
  "kernelspec": {
   "display_name": "Python 3",
   "language": "python",
   "name": "python3"
  },
  "language_info": {
   "codemirror_mode": {
    "name": "ipython",
    "version": 3
   },
   "file_extension": ".py",
   "mimetype": "text/x-python",
   "name": "python",
   "nbconvert_exporter": "python",
   "pygments_lexer": "ipython3",
   "version": "3.7.2"
  }
 },
 "nbformat": 4,
 "nbformat_minor": 4
}
