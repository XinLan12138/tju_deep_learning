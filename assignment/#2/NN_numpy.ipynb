{
 "cells": [
  {
   "cell_type": "markdown",
   "metadata": {},
   "source": [
    "https://stats.stackexchange.com/questions/376312/mnist-digit-recognition-what-is-the-best-we-can-get-with-a-fully-connected-nn-o"
   ]
  },
  {
   "cell_type": "markdown",
   "metadata": {},
   "source": [
    "https://www.python-course.eu/neural_network_mnist.php"
   ]
  },
  {
   "cell_type": "code",
   "execution_count": 1,
   "metadata": {},
   "outputs": [],
   "source": [
    "import matplotlib.pyplot as plt\n",
    "import numpy as np\n",
    "from scipy.special import expit as activation_function  # 1/(1+exp(-x)), sigmoid\n",
    "from scipy.stats import truncnorm"
   ]
  },
  {
   "cell_type": "code",
   "execution_count": 2,
   "metadata": {},
   "outputs": [
    {
     "name": "stdout",
     "output_type": "stream",
     "text": [
      "Data loaded.\n"
     ]
    }
   ],
   "source": [
    "if True:  # recreate MNIST arrays. Do it only once, after that modify to False\n",
    "    train_data = np.loadtxt(\"../../dataset/mnist_train.csv\", delimiter=\",\")\n",
    "    test_data = np.loadtxt(\"../../dataset/mnist_test.csv\", delimiter=\",\")\n",
    "    train_imgs = np.asfarray(train_data[:, 1:]) / 255.0\n",
    "    test_imgs = np.asfarray(test_data[:, 1:]) / 255.0\n",
    "    train_labels = np.asfarray(train_data[:, :1])\n",
    "    test_labels = np.asfarray(test_data[:, :1])\n",
    "    lr = np.arange(10)\n",
    "    train_labels_one_hot = (lr==train_labels).astype(np.float)\n",
    "    test_labels_one_hot = (lr==test_labels).astype(np.float)\n",
    "    for i, d in enumerate([train_imgs, test_imgs, train_labels, test_labels, train_labels_one_hot, test_labels_one_hot]):\n",
    "        np.save('%i.array' % i, d)\n",
    "\n",
    "(train_imgs, test_imgs, train_labels, test_labels, train_labels_one_hot, test_labels_one_hot) = [np.load('%i.array.npy' % i) for i in range(6)]\n",
    "\n",
    "print('Data loaded.')"
   ]
  },
  {
   "cell_type": "code",
   "execution_count": 5,
   "metadata": {},
   "outputs": [
    {
     "data": {
      "image/png": "[encoded data removed]",
      "text/plain": [
       "<Figure size 432x288 with 1 Axes>"
      ]
     },
     "metadata": {
      "needs_background": "light"
     },
     "output_type": "display_data"
    },
    {
     "data": {
      "image/png": "[encoded data removed]",
      "text/plain": [
       "<Figure size 432x288 with 1 Axes>"
      ]
     },
     "metadata": {
      "needs_background": "light"
     },
     "output_type": "display_data"
    },
    {
     "data": {
      "image/png": "[encoded data removed]",
      "text/plain": [
       "<Figure size 432x288 with 1 Axes>"
      ]
     },
     "metadata": {
      "needs_background": "light"
     },
     "output_type": "display_data"
    },
    {
     "data": {
      "image/png": "[encoded data removed]",
      "text/plain": [
       "<Figure size 432x288 with 1 Axes>"
      ]
     },
     "metadata": {
      "needs_background": "light"
     },
     "output_type": "display_data"
    },
    {
     "data": {
      "image/png": "[encoded data removed]",
      "text/plain": [
       "<Figure size 432x288 with 1 Axes>"
      ]
     },
     "metadata": {
      "needs_background": "light"
     },
     "output_type": "display_data"
    }
   ],
   "source": [
    "if True:  # True to show images\n",
    "    for i in range(5):\n",
    "        img = train_imgs[i].reshape((28,28))\n",
    "        plt.imshow(img, cmap=\"Greys\")\n",
    "        plt.show()"
   ]
  },
  {
   "cell_type": "code",
   "execution_count": 6,
   "metadata": {},
   "outputs": [],
   "source": [
    "class NeuralNetwork:\n",
    "    def __init__(self, network_structure, learning_rate, bias=None):  \n",
    "        self.structure = network_structure\n",
    "        self.no_of_layers = len(self.structure)\n",
    "        self.learning_rate = learning_rate \n",
    "        self.bias = bias\n",
    "        self.create_weight_matrices()\n",
    "\n",
    "    def create_weight_matrices(self):\n",
    "        bias_node = 1 if self.bias else 0\n",
    "        self.weights_matrices = []\n",
    "        for k in range(self.no_of_layers-1):\n",
    "            nodes_in = self.structure[k]\n",
    "            nodes_out = self.structure[k+1]\n",
    "            n = (nodes_in + bias_node) * nodes_out\n",
    "            X = truncnorm(-1, 1,  loc=0, scale=1)\n",
    "            #X = truncnorm(-1 / np.sqrt(nodes_in), 1 / np.sqrt(nodes_in),  loc=0, scale=1)  # accuracy is worse\n",
    "            wm = X.rvs(n).reshape((nodes_out, nodes_in + bias_node))\n",
    "            self.weights_matrices.append(wm)\n",
    "\n",
    "    def train(self, input_vector, target_vector): \n",
    "        input_vector = np.array(input_vector, ndmin=2).T\n",
    "        res_vectors = [input_vector]\n",
    "        for k in range(self.no_of_layers-1):\n",
    "            in_vector = res_vectors[-1]\n",
    "            if self.bias:\n",
    "                in_vector = np.concatenate((in_vector, [[self.bias]]))\n",
    "                res_vectors[-1] = in_vector\n",
    "            x = np.dot(self.weights_matrices[k], in_vector)\n",
    "            out_vector = activation_function(x)\n",
    "            res_vectors.append(out_vector)    \n",
    "\n",
    "        target_vector = np.array(target_vector, ndmin=2).T\n",
    "        output_errors = target_vector - out_vector  \n",
    "        for k in range(self.no_of_layers-1, 0, -1):\n",
    "            out_vector = res_vectors[k]\n",
    "            in_vector = res_vectors[k-1]\n",
    "            if self.bias and not k==(self.no_of_layers-1):\n",
    "                out_vector = out_vector[:-1,:].copy()\n",
    "            tmp = output_errors * out_vector * (1.0 - out_vector)  # sigma'(x) = sigma(x) (1 - sigma(x))\n",
    "            tmp = np.dot(tmp, in_vector.T)\n",
    "            self.weights_matrices[k-1] += self.learning_rate * tmp\n",
    "            output_errors = np.dot(self.weights_matrices[k-1].T, output_errors)\n",
    "            if self.bias:\n",
    "                output_errors = output_errors[:-1,:]\n",
    "\n",
    "    def run(self, input_vector):\n",
    "        if self.bias:\n",
    "            input_vector = np.concatenate((input_vector, [self.bias]))\n",
    "        in_vector = np.array(input_vector, ndmin=2).T\n",
    "        for k in range(self.no_of_layers-1):\n",
    "            x = np.dot(self.weights_matrices[k], in_vector)\n",
    "            out_vector = activation_function(x)\n",
    "            in_vector = out_vector\n",
    "            if self.bias:\n",
    "                in_vector = np.concatenate((in_vector, [[self.bias]]))\n",
    "        return out_vector\n",
    "\n",
    "    def evaluate(self, data, labels):\n",
    "        corrects, wrongs = 0, 0\n",
    "        for i in range(len(data)):\n",
    "            res = self.run(data[i])\n",
    "            res_max = res.argmax()\n",
    "            if res_max == labels[i]:\n",
    "                corrects += 1\n",
    "            else:\n",
    "                wrongs += 1\n",
    "        return corrects, wrongs"
   ]
  },
  {
   "cell_type": "code",
   "execution_count": 7,
   "metadata": {},
   "outputs": [
    {
     "name": "stdout",
     "output_type": "stream",
     "text": [
      "epoch: 0 img number: 0 / 60000\n",
      "epoch: 0 img number: 1000 / 60000\n",
      "epoch: 0 img number: 2000 / 60000\n",
      "epoch: 0 img number: 3000 / 60000\n",
      "epoch: 0 img number: 4000 / 60000\n",
      "epoch: 0 img number: 5000 / 60000\n",
      "epoch: 0 img number: 6000 / 60000\n",
      "epoch: 0 img number: 7000 / 60000\n",
      "epoch: 0 img number: 8000 / 60000\n",
      "epoch: 0 img number: 9000 / 60000\n",
      "epoch: 0 img number: 10000 / 60000\n",
      "epoch: 0 img number: 11000 / 60000\n",
      "epoch: 0 img number: 12000 / 60000\n",
      "epoch: 0 img number: 13000 / 60000\n",
      "epoch: 0 img number: 14000 / 60000\n",
      "epoch: 0 img number: 15000 / 60000\n",
      "epoch: 0 img number: 16000 / 60000\n",
      "epoch: 0 img number: 17000 / 60000\n",
      "epoch: 0 img number: 18000 / 60000\n",
      "epoch: 0 img number: 19000 / 60000\n",
      "epoch: 0 img number: 20000 / 60000\n",
      "epoch: 0 img number: 21000 / 60000\n",
      "epoch: 0 img number: 22000 / 60000\n",
      "epoch: 0 img number: 23000 / 60000\n",
      "epoch: 0 img number: 24000 / 60000\n",
      "epoch: 0 img number: 25000 / 60000\n",
      "epoch: 0 img number: 26000 / 60000\n",
      "epoch: 0 img number: 27000 / 60000\n",
      "epoch: 0 img number: 28000 / 60000\n",
      "epoch: 0 img number: 29000 / 60000\n",
      "epoch: 0 img number: 30000 / 60000\n",
      "epoch: 0 img number: 31000 / 60000\n",
      "epoch: 0 img number: 32000 / 60000\n",
      "epoch: 0 img number: 33000 / 60000\n",
      "epoch: 0 img number: 34000 / 60000\n",
      "epoch: 0 img number: 35000 / 60000\n",
      "epoch: 0 img number: 36000 / 60000\n",
      "epoch: 0 img number: 37000 / 60000\n",
      "epoch: 0 img number: 38000 / 60000\n",
      "epoch: 0 img number: 39000 / 60000\n",
      "epoch: 0 img number: 40000 / 60000\n",
      "epoch: 0 img number: 41000 / 60000\n",
      "epoch: 0 img number: 42000 / 60000\n",
      "epoch: 0 img number: 43000 / 60000\n",
      "epoch: 0 img number: 44000 / 60000\n",
      "epoch: 0 img number: 45000 / 60000\n",
      "epoch: 0 img number: 46000 / 60000\n",
      "epoch: 0 img number: 47000 / 60000\n",
      "epoch: 0 img number: 48000 / 60000\n",
      "epoch: 0 img number: 49000 / 60000\n",
      "epoch: 0 img number: 50000 / 60000\n",
      "epoch: 0 img number: 51000 / 60000\n",
      "epoch: 0 img number: 52000 / 60000\n",
      "epoch: 0 img number: 53000 / 60000\n",
      "epoch: 0 img number: 54000 / 60000\n",
      "epoch: 0 img number: 55000 / 60000\n",
      "epoch: 0 img number: 56000 / 60000\n",
      "epoch: 0 img number: 57000 / 60000\n",
      "epoch: 0 img number: 58000 / 60000\n",
      "epoch: 0 img number: 59000 / 60000\n",
      "epoch: 1 img number: 0 / 60000\n",
      "epoch: 1 img number: 1000 / 60000\n",
      "epoch: 1 img number: 2000 / 60000\n",
      "epoch: 1 img number: 3000 / 60000\n",
      "epoch: 1 img number: 4000 / 60000\n",
      "epoch: 1 img number: 5000 / 60000\n",
      "epoch: 1 img number: 6000 / 60000\n",
      "epoch: 1 img number: 7000 / 60000\n",
      "epoch: 1 img number: 8000 / 60000\n",
      "epoch: 1 img number: 9000 / 60000\n",
      "epoch: 1 img number: 10000 / 60000\n",
      "epoch: 1 img number: 11000 / 60000\n",
      "epoch: 1 img number: 12000 / 60000\n",
      "epoch: 1 img number: 13000 / 60000\n",
      "epoch: 1 img number: 14000 / 60000\n",
      "epoch: 1 img number: 15000 / 60000\n",
      "epoch: 1 img number: 16000 / 60000\n",
      "epoch: 1 img number: 17000 / 60000\n",
      "epoch: 1 img number: 18000 / 60000\n",
      "epoch: 1 img number: 19000 / 60000\n",
      "epoch: 1 img number: 20000 / 60000\n",
      "epoch: 1 img number: 21000 / 60000\n",
      "epoch: 1 img number: 22000 / 60000\n",
      "epoch: 1 img number: 23000 / 60000\n",
      "epoch: 1 img number: 24000 / 60000\n",
      "epoch: 1 img number: 25000 / 60000\n",
      "epoch: 1 img number: 26000 / 60000\n",
      "epoch: 1 img number: 27000 / 60000\n",
      "epoch: 1 img number: 28000 / 60000\n",
      "epoch: 1 img number: 29000 / 60000\n",
      "epoch: 1 img number: 30000 / 60000\n",
      "epoch: 1 img number: 31000 / 60000\n",
      "epoch: 1 img number: 32000 / 60000\n",
      "epoch: 1 img number: 33000 / 60000\n",
      "epoch: 1 img number: 34000 / 60000\n",
      "epoch: 1 img number: 35000 / 60000\n",
      "epoch: 1 img number: 36000 / 60000\n",
      "epoch: 1 img number: 37000 / 60000\n",
      "epoch: 1 img number: 38000 / 60000\n",
      "epoch: 1 img number: 39000 / 60000\n",
      "epoch: 1 img number: 40000 / 60000\n",
      "epoch: 1 img number: 41000 / 60000\n",
      "epoch: 1 img number: 42000 / 60000\n",
      "epoch: 1 img number: 43000 / 60000\n",
      "epoch: 1 img number: 44000 / 60000\n",
      "epoch: 1 img number: 45000 / 60000\n",
      "epoch: 1 img number: 46000 / 60000\n",
      "epoch: 1 img number: 47000 / 60000\n",
      "epoch: 1 img number: 48000 / 60000\n",
      "epoch: 1 img number: 49000 / 60000\n",
      "epoch: 1 img number: 50000 / 60000\n",
      "epoch: 1 img number: 51000 / 60000\n",
      "epoch: 1 img number: 52000 / 60000\n",
      "epoch: 1 img number: 53000 / 60000\n",
      "epoch: 1 img number: 54000 / 60000\n",
      "epoch: 1 img number: 55000 / 60000\n",
      "epoch: 1 img number: 56000 / 60000\n",
      "epoch: 1 img number: 57000 / 60000\n",
      "epoch: 1 img number: 58000 / 60000\n",
      "epoch: 1 img number: 59000 / 60000\n",
      "epoch: 2 img number: 0 / 60000\n",
      "epoch: 2 img number: 1000 / 60000\n",
      "epoch: 2 img number: 2000 / 60000\n",
      "epoch: 2 img number: 3000 / 60000\n",
      "epoch: 2 img number: 4000 / 60000\n",
      "epoch: 2 img number: 5000 / 60000\n",
      "epoch: 2 img number: 6000 / 60000\n",
      "epoch: 2 img number: 7000 / 60000\n",
      "epoch: 2 img number: 8000 / 60000\n",
      "epoch: 2 img number: 9000 / 60000\n",
      "epoch: 2 img number: 10000 / 60000\n",
      "epoch: 2 img number: 11000 / 60000\n",
      "epoch: 2 img number: 12000 / 60000\n",
      "epoch: 2 img number: 13000 / 60000\n",
      "epoch: 2 img number: 14000 / 60000\n",
      "epoch: 2 img number: 15000 / 60000\n",
      "epoch: 2 img number: 16000 / 60000\n",
      "epoch: 2 img number: 17000 / 60000\n",
      "epoch: 2 img number: 18000 / 60000\n",
      "epoch: 2 img number: 19000 / 60000\n",
      "epoch: 2 img number: 20000 / 60000\n",
      "epoch: 2 img number: 21000 / 60000\n",
      "epoch: 2 img number: 22000 / 60000\n",
      "epoch: 2 img number: 23000 / 60000\n",
      "epoch: 2 img number: 24000 / 60000\n",
      "epoch: 2 img number: 25000 / 60000\n",
      "epoch: 2 img number: 26000 / 60000\n",
      "epoch: 2 img number: 27000 / 60000\n",
      "epoch: 2 img number: 28000 / 60000\n",
      "epoch: 2 img number: 29000 / 60000\n",
      "epoch: 2 img number: 30000 / 60000\n",
      "epoch: 2 img number: 31000 / 60000\n",
      "epoch: 2 img number: 32000 / 60000\n",
      "epoch: 2 img number: 33000 / 60000\n",
      "epoch: 2 img number: 34000 / 60000\n",
      "epoch: 2 img number: 35000 / 60000\n",
      "epoch: 2 img number: 36000 / 60000\n",
      "epoch: 2 img number: 37000 / 60000\n",
      "epoch: 2 img number: 38000 / 60000\n",
      "epoch: 2 img number: 39000 / 60000\n",
      "epoch: 2 img number: 40000 / 60000\n",
      "epoch: 2 img number: 41000 / 60000\n",
      "epoch: 2 img number: 42000 / 60000\n",
      "epoch: 2 img number: 43000 / 60000\n",
      "epoch: 2 img number: 44000 / 60000\n",
      "epoch: 2 img number: 45000 / 60000\n",
      "epoch: 2 img number: 46000 / 60000\n",
      "epoch: 2 img number: 47000 / 60000\n",
      "epoch: 2 img number: 48000 / 60000\n",
      "epoch: 2 img number: 49000 / 60000\n",
      "epoch: 2 img number: 50000 / 60000\n",
      "epoch: 2 img number: 51000 / 60000\n",
      "epoch: 2 img number: 52000 / 60000\n",
      "epoch: 2 img number: 53000 / 60000\n",
      "epoch: 2 img number: 54000 / 60000\n",
      "epoch: 2 img number: 55000 / 60000\n",
      "epoch: 2 img number: 56000 / 60000\n",
      "epoch: 2 img number: 57000 / 60000\n",
      "epoch: 2 img number: 58000 / 60000\n",
      "epoch: 2 img number: 59000 / 60000\n"
     ]
    }
   ],
   "source": [
    "ANN = NeuralNetwork(network_structure=[784, 200, 80, 10], learning_rate=0.01, bias=None)\n",
    "\n",
    "for epoch in range(3):\n",
    "    for i in range(len(train_imgs)):\n",
    "        if i % 1000 == 0:\n",
    "            print('epoch:', epoch, 'img number:', i, '/', len(train_imgs))\n",
    "        ANN.train(train_imgs[i], train_labels_one_hot[i])"
   ]
  },
  {
   "cell_type": "code",
   "execution_count": 8,
   "metadata": {},
   "outputs": [
    {
     "name": "stdout",
     "output_type": "stream",
     "text": [
      "accruracy: test 0.9628\n"
     ]
    }
   ],
   "source": [
    "corrects, wrongs = ANN.evaluate(test_imgs, test_labels)\n",
    "print(\"accruracy: test\", corrects / (corrects + wrongs))"
   ]
  },
  {
   "cell_type": "code",
   "execution_count": null,
   "metadata": {},
   "outputs": [],
   "source": []
  }
 ],
 "metadata": {
  "kernelspec": {
   "display_name": "Python 3",
   "language": "python",
   "name": "python3"
  },
  "language_info": {
   "codemirror_mode": {
    "name": "ipython",
    "version": 3
   },
   "file_extension": ".py",
   "mimetype": "text/x-python",
   "name": "python",
   "nbconvert_exporter": "python",
   "pygments_lexer": "ipython3",
   "version": "3.6.2"
  }
 },
 "nbformat": 4,
 "nbformat_minor": 4
}
