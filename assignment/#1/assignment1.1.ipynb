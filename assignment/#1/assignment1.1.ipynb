{
 "cells": [
  {
   "cell_type": "markdown",
   "metadata": {},
   "source": [
    "# Assignment 1.1"
   ]
  },
  {
   "cell_type": "code",
   "execution_count": 2,
   "metadata": {},
   "outputs": [],
   "source": [
    "import matplotlib as plt\n",
    "import numpy as np\n",
    "import pandas as pd\n",
    "import sklearn\n",
    "import sklearn.preprocessing as pre\n",
    "from matplotlib.pyplot import plot\n",
    "from sklearn.model_selection import train_test_split"
   ]
  },
  {
   "cell_type": "markdown",
   "metadata": {},
   "source": [
    "## Task 1 Linear regression "
   ]
  },
  {
   "cell_type": "code",
   "execution_count": 3,
   "metadata": {
    "scrolled": true
   },
   "outputs": [
    {
     "data": {
      "text/html": [
       "<div>\n",
       "<style>\n",
       "    .dataframe thead tr:only-child th {\n",
       "        text-align: right;\n",
       "    }\n",
       "\n",
       "    .dataframe thead th {\n",
       "        text-align: left;\n",
       "    }\n",
       "\n",
       "    .dataframe tbody tr th {\n",
       "        vertical-align: top;\n",
       "    }\n",
       "</style>\n",
       "<table border=\"1\" class=\"dataframe\">\n",
       "  <thead>\n",
       "    <tr style=\"text-align: right;\">\n",
       "      <th></th>\n",
       "      <th>vendor</th>\n",
       "      <th>name</th>\n",
       "      <th>MYCT</th>\n",
       "      <th>MMIN</th>\n",
       "      <th>MMAX</th>\n",
       "      <th>CACH</th>\n",
       "      <th>CHMIN</th>\n",
       "      <th>CHMAX</th>\n",
       "      <th>PRP</th>\n",
       "      <th>ERP</th>\n",
       "    </tr>\n",
       "  </thead>\n",
       "  <tbody>\n",
       "    <tr>\n",
       "      <th>0</th>\n",
       "      <td>adviser</td>\n",
       "      <td>32/60</td>\n",
       "      <td>125</td>\n",
       "      <td>256</td>\n",
       "      <td>6000</td>\n",
       "      <td>256</td>\n",
       "      <td>16</td>\n",
       "      <td>128</td>\n",
       "      <td>198</td>\n",
       "      <td>199</td>\n",
       "    </tr>\n",
       "    <tr>\n",
       "      <th>1</th>\n",
       "      <td>amdahl</td>\n",
       "      <td>470v/7</td>\n",
       "      <td>29</td>\n",
       "      <td>8000</td>\n",
       "      <td>32000</td>\n",
       "      <td>32</td>\n",
       "      <td>8</td>\n",
       "      <td>32</td>\n",
       "      <td>269</td>\n",
       "      <td>253</td>\n",
       "    </tr>\n",
       "    <tr>\n",
       "      <th>2</th>\n",
       "      <td>amdahl</td>\n",
       "      <td>470v/7a</td>\n",
       "      <td>29</td>\n",
       "      <td>8000</td>\n",
       "      <td>32000</td>\n",
       "      <td>32</td>\n",
       "      <td>8</td>\n",
       "      <td>32</td>\n",
       "      <td>220</td>\n",
       "      <td>253</td>\n",
       "    </tr>\n",
       "    <tr>\n",
       "      <th>3</th>\n",
       "      <td>amdahl</td>\n",
       "      <td>470v/7b</td>\n",
       "      <td>29</td>\n",
       "      <td>8000</td>\n",
       "      <td>32000</td>\n",
       "      <td>32</td>\n",
       "      <td>8</td>\n",
       "      <td>32</td>\n",
       "      <td>172</td>\n",
       "      <td>253</td>\n",
       "    </tr>\n",
       "    <tr>\n",
       "      <th>4</th>\n",
       "      <td>amdahl</td>\n",
       "      <td>470v/7c</td>\n",
       "      <td>29</td>\n",
       "      <td>8000</td>\n",
       "      <td>16000</td>\n",
       "      <td>32</td>\n",
       "      <td>8</td>\n",
       "      <td>16</td>\n",
       "      <td>132</td>\n",
       "      <td>132</td>\n",
       "    </tr>\n",
       "  </tbody>\n",
       "</table>\n",
       "</div>"
      ],
      "text/plain": [
       "    vendor     name  MYCT  MMIN   MMAX  CACH  CHMIN  CHMAX  PRP  ERP\n",
       "0  adviser    32/60   125   256   6000   256     16    128  198  199\n",
       "1   amdahl   470v/7    29  8000  32000    32      8     32  269  253\n",
       "2   amdahl  470v/7a    29  8000  32000    32      8     32  220  253\n",
       "3   amdahl  470v/7b    29  8000  32000    32      8     32  172  253\n",
       "4   amdahl  470v/7c    29  8000  16000    32      8     16  132  132"
      ]
     },
     "execution_count": 3,
     "metadata": {},
     "output_type": "execute_result"
    }
   ],
   "source": [
    "# 读出前五位\n",
    "cpu = pd.read_csv('../../dataset/cpu_performance/machine.data',header=None)\n",
    "cpu.columns = ['vendor', 'name', 'MYCT', 'MMIN', 'MMAX', 'CACH', 'CHMIN','CHMAX','PRP','ERP']\n",
    "cpu.head()"
   ]
  },
  {
   "cell_type": "markdown",
   "metadata": {},
   "source": [
    "- Use the first 8 attribute to predict the 9th attribute, i,e, **published relative performance (PRP)**\n",
    "\n",
    "- Build a **linear regression model** for this task, by using **MSE (mean square error)** loss function,\n",
    "you are expected to get a **loss lower than 6000** on you test set"
   ]
  },
  {
   "cell_type": "code",
   "execution_count": 106,
   "metadata": {},
   "outputs": [],
   "source": [
    "cpu_X, cpu_y = cpu.iloc[:, 0:8], cpu.iloc[:, -2]"
   ]
  },
  {
   "cell_type": "code",
   "execution_count": 5,
   "metadata": {},
   "outputs": [
    {
     "data": {
      "text/plain": [
       "(209,)"
      ]
     },
     "execution_count": 5,
     "metadata": {},
     "output_type": "execute_result"
    }
   ],
   "source": [
    "cpu_y.shape"
   ]
  },
  {
   "cell_type": "markdown",
   "metadata": {},
   "source": [
    "- 查看cpu来源数量"
   ]
  },
  {
   "cell_type": "code",
   "execution_count": 6,
   "metadata": {},
   "outputs": [],
   "source": [
    "cpu_vendor, cpu_name = cpu.iloc[:, 0], cpu.iloc[:, 1]"
   ]
  },
  {
   "cell_type": "code",
   "execution_count": 7,
   "metadata": {},
   "outputs": [
    {
     "name": "stdout",
     "output_type": "stream",
     "text": [
      "{'adviser', 'magnuson', 'ibm', 'c.r.d', 'four-phase', 'ncr', 'microdata', 'bti', 'dec', 'amdahl', 'honeywell', 'perkin-elmer', 'apollo', 'cambex', 'ipl', 'hp', 'wang', 'cdc', 'prime', 'dg', 'gould', 'formation', 'burroughs', 'harris', 'siemens', 'sperry', 'sratus', 'basf', 'nas', 'nixdorf'}\n",
      "30\n"
     ]
    }
   ],
   "source": [
    "vendor_set = set(cpu_vendor)\n",
    "print(vendor_set)\n",
    "print(len(vendor_set))"
   ]
  },
  {
   "cell_type": "markdown",
   "metadata": {},
   "source": [
    "- 产看cpu名字数量"
   ]
  },
  {
   "cell_type": "code",
   "execution_count": 8,
   "metadata": {},
   "outputs": [
    {
     "name": "stdout",
     "output_type": "stream",
     "text": [
      "{'v8565:ii', 'dps:8/44', '3033:u', 'f4000/300ap', '7.541', '7.872-2', '4436', 'dn320', 'm80/32', '80/5', 'b2925', 'as/9000-dpc', '1636-1', '470v/7b', 'as/5000-n', 'b6900', 'universe:68/05', '3081:d', 'v8585:ii', '580-5860', '4331-11', '8130-b', '3210', 'as/5000', 'eclipse:mv/8000-ii', 'v8545:ii', '7.531', 'eclipse:mv/8000', '80/6', '4341-1', '8000', '1100/61-h1', '370/148', 'universe:68/37', '370/158-3', 'eclipse:c/350', 'as/5000-e', '3083:e', 'as/3000', 'b2900', '8890/30', 'vs-100', 'microvax-1', 'as/9060', 'dps:8/50', 'm80/44', 'b5920', 'v8595:ii', '50-250-ii', '80/3', '50-2250', '32/60', '1641-1', '470v/7', '600', '3083:b', '8130-a', 'cyber:170/835', '1100/81', 'as/8060', 'vs-90', '580-5840', 'omega:480-iii', 'dps:6/92', '4341-11', '7/68', 'b6925', '50-850-ii', '1100/83', '7.865-2', '38/5', 'vax:11/750', 'm80/30', '470v/b', '7.880-2', 'omega:480-ii', 'v8535:ii', '38/7', 'as/8040', '1100/82', 'dps:7/65', 'dn420', '3205', '7.870-2', '4381-1', '80/4', 'cyber:170/825', 'cyber:170/750', '3000/64', '8140', 'f4000/200', '4446', 'm80/43', 'as/6630', '7.561', 'f4000/300', 'dps:7/55', '32', '4443', '1100/93', '470v/7a', 'universe:68/137', '8890/50', '7/65', 'dps:7/35', 'b5900', 'as/6650', 'eclipse:m/600', 'dps:6/35', '4341', 'concept:32/8750', '4341-12', 'as/7000', '7.551', 'v8665', '80', '3081', 'universe:68', 'vax:11/780', 'm80/42', '3000/48', '68/10-80', 'as/3000-n', '3000/iii', 'cyber:170/760', '580-5880', '370/125-2', '4331-2', 'dps:8/52', '4480', 'as/6150', '7.875-2', 'v8650', '470v/7c', '800', 'concept:32/8705', '300', '1100/94', 'vax:11/730', '4341-10', 'as/9040', '2000/260', '3000/30', '8890/70', 'dps:8/20', '7.881-2', 'cyber:170/815', '580-5850', 'as/8050', '100', '3000/44', 'f4000/100', '4321', '4341-9', 'as/6620', '38/8', '38/3', 'v8655', 'dps:8/62', 'cyber:170/845', '4331-1', '7.521', '50-550-ii', 'omega:480-i', 'decsys:10:1091', '3000/40', '38/4', 'as/7000-n', 'eclipse:mv/4000', 'eclipse:mv/10000', 'v8575:ii', '700', 'b1955', '3000/88', '5000', '1641-11', '1651-1', 'dps:6/96', '3033:s', '3230', '1100/84', '4341-2', 'm80/31', 'seq.ms/3200', '50-750-ii', '90/80-model-3', 'eclipse:mv/6000', 'as/6130', 'v8555:ii', '80/8', '4460', 'dps:7/45', '7.536', 'as/9000-n', 'decsys:20:2060', 'f4000/200ap', '4361-4', '4361-5', 'universe:2203t', 'dps:8/49', '4381-2', 'b4955', '500', 'v8635', '4445', 'v8670', 'v8565:ii-e', 'concept:32/8780', '1636-10'}\n",
      "209\n"
     ]
    }
   ],
   "source": [
    "name_set = set(cpu_name)\n",
    "print(name_set)\n",
    "print(len(name_set))"
   ]
  },
  {
   "cell_type": "markdown",
   "metadata": {},
   "source": [
    "鉴于cpu的名称数量（209）与整个数据集cpu数量（209）相等，因此首先考虑了先不使用第二行信息进行模型构建，查看效果！"
   ]
  },
  {
   "cell_type": "markdown",
   "metadata": {},
   "source": [
    "### 第一次实验：除了`name`字段进行模型构建 "
   ]
  },
  {
   "cell_type": "code",
   "execution_count": 38,
   "metadata": {},
   "outputs": [],
   "source": [
    "# 取除了第二行name以外的数据用于构建\n",
    "# cpu_X, cpu_y = cpu.iloc[:, 0:8], cpu.iloc[:, -2]\n",
    "cpu_X_no_name = cpu.ix[:,[0,2,3,4,5,6,7]]"
   ]
  },
  {
   "cell_type": "markdown",
   "metadata": {},
   "source": [
    "- 对于cpu供应商进行label构建"
   ]
  },
  {
   "cell_type": "code",
   "execution_count": 39,
   "metadata": {},
   "outputs": [
    {
     "data": {
      "text/html": [
       "<div>\n",
       "<style>\n",
       "    .dataframe thead tr:only-child th {\n",
       "        text-align: right;\n",
       "    }\n",
       "\n",
       "    .dataframe thead th {\n",
       "        text-align: left;\n",
       "    }\n",
       "\n",
       "    .dataframe tbody tr th {\n",
       "        vertical-align: top;\n",
       "    }\n",
       "</style>\n",
       "<table border=\"1\" class=\"dataframe\">\n",
       "  <thead>\n",
       "    <tr style=\"text-align: right;\">\n",
       "      <th></th>\n",
       "      <th>vendor</th>\n",
       "      <th>MYCT</th>\n",
       "      <th>MMIN</th>\n",
       "      <th>MMAX</th>\n",
       "      <th>CACH</th>\n",
       "      <th>CHMIN</th>\n",
       "      <th>CHMAX</th>\n",
       "    </tr>\n",
       "  </thead>\n",
       "  <tbody>\n",
       "    <tr>\n",
       "      <th>0</th>\n",
       "      <td>adviser</td>\n",
       "      <td>125</td>\n",
       "      <td>256</td>\n",
       "      <td>6000</td>\n",
       "      <td>256</td>\n",
       "      <td>16</td>\n",
       "      <td>128</td>\n",
       "    </tr>\n",
       "    <tr>\n",
       "      <th>1</th>\n",
       "      <td>amdahl</td>\n",
       "      <td>29</td>\n",
       "      <td>8000</td>\n",
       "      <td>32000</td>\n",
       "      <td>32</td>\n",
       "      <td>8</td>\n",
       "      <td>32</td>\n",
       "    </tr>\n",
       "    <tr>\n",
       "      <th>2</th>\n",
       "      <td>amdahl</td>\n",
       "      <td>29</td>\n",
       "      <td>8000</td>\n",
       "      <td>32000</td>\n",
       "      <td>32</td>\n",
       "      <td>8</td>\n",
       "      <td>32</td>\n",
       "    </tr>\n",
       "    <tr>\n",
       "      <th>3</th>\n",
       "      <td>amdahl</td>\n",
       "      <td>29</td>\n",
       "      <td>8000</td>\n",
       "      <td>32000</td>\n",
       "      <td>32</td>\n",
       "      <td>8</td>\n",
       "      <td>32</td>\n",
       "    </tr>\n",
       "    <tr>\n",
       "      <th>4</th>\n",
       "      <td>amdahl</td>\n",
       "      <td>29</td>\n",
       "      <td>8000</td>\n",
       "      <td>16000</td>\n",
       "      <td>32</td>\n",
       "      <td>8</td>\n",
       "      <td>16</td>\n",
       "    </tr>\n",
       "  </tbody>\n",
       "</table>\n",
       "</div>"
      ],
      "text/plain": [
       "    vendor  MYCT  MMIN   MMAX  CACH  CHMIN  CHMAX\n",
       "0  adviser   125   256   6000   256     16    128\n",
       "1   amdahl    29  8000  32000    32      8     32\n",
       "2   amdahl    29  8000  32000    32      8     32\n",
       "3   amdahl    29  8000  32000    32      8     32\n",
       "4   amdahl    29  8000  16000    32      8     16"
      ]
     },
     "execution_count": 39,
     "metadata": {},
     "output_type": "execute_result"
    }
   ],
   "source": [
    "cpu_X_no_name.iloc[:, :].head()"
   ]
  },
  {
   "cell_type": "code",
   "execution_count": 40,
   "metadata": {},
   "outputs": [
    {
     "name": "stderr",
     "output_type": "stream",
     "text": [
      "C:\\Users\\HYJ\\Anaconda3\\lib\\site-packages\\pandas\\core\\indexing.py:517: SettingWithCopyWarning: \n",
      "A value is trying to be set on a copy of a slice from a DataFrame.\n",
      "Try using .loc[row_indexer,col_indexer] = value instead\n",
      "\n",
      "See the caveats in the documentation: http://pandas.pydata.org/pandas-docs/stable/indexing.html#indexing-view-versus-copy\n",
      "  self.obj[item] = s\n"
     ]
    }
   ],
   "source": [
    "cpu_X_no_name.iloc[:, 0] = pre.LabelEncoder().fit_transform(cpu_X_no_name.iloc[:, 0])"
   ]
  },
  {
   "cell_type": "code",
   "execution_count": 41,
   "metadata": {},
   "outputs": [],
   "source": [
    "cpu_X_no_name, cpu_y = np.array(cpu_X_no_name), np.array(cpu_y)"
   ]
  },
  {
   "cell_type": "code",
   "execution_count": 42,
   "metadata": {},
   "outputs": [
    {
     "data": {
      "text/plain": [
       "dtype('int64')"
      ]
     },
     "execution_count": 42,
     "metadata": {},
     "output_type": "execute_result"
    }
   ],
   "source": [
    "cpu_X_no_name.dtype"
   ]
  },
  {
   "cell_type": "markdown",
   "metadata": {},
   "source": [
    "- Normalization & Zero-centered"
   ]
  },
  {
   "cell_type": "code",
   "execution_count": 84,
   "metadata": {},
   "outputs": [],
   "source": [
    "XTrain1, XTest1, yTrain1, yTest1 = train_test_split(cpu_X_no_name, cpu_y, test_size=0.3, random_state=10)\n",
    "featMean1, featStd1 = np.mean(XTrain1, axis=0), np.std(XTest1, axis=0)\n",
    "XTrain1 = (XTrain1 - featMean1) / featStd1\n",
    "XTest1 = (XTest1 - featMean1) / featStd1"
   ]
  },
  {
   "cell_type": "code",
   "execution_count": 85,
   "metadata": {},
   "outputs": [
    {
     "name": "stdout",
     "output_type": "stream",
     "text": [
      "(146, 7)\n",
      "(7,)\n"
     ]
    }
   ],
   "source": [
    "print(XTrain1.shape)\n",
    "print(featMean1.shape)"
   ]
  },
  {
   "cell_type": "markdown",
   "metadata": {},
   "source": [
    "- Parameters Initialization 模型初始化"
   ]
  },
  {
   "cell_type": "code",
   "execution_count": 119,
   "metadata": {},
   "outputs": [],
   "source": [
    "# 可以进行其他参数的初始化选择，如ones, rand等等\n",
    "theta1 = np.zeros(XTrain1.shape[1]+1)\n",
    "\n",
    "XTrain1 = np.concatenate((np.ones((XTrain1.shape[0], 1)), XTrain1), axis=1)\n",
    "XTest1 = np.concatenate((np.ones((XTest1.shape[0], 1)), XTest1), axis=1)"
   ]
  },
  {
   "cell_type": "code",
   "execution_count": 120,
   "metadata": {},
   "outputs": [
    {
     "name": "stdout",
     "output_type": "stream",
     "text": [
      "Epoch 0 loss: 18069.8184932\n",
      "Epoch 50 loss: 2064.07476429\n",
      "Epoch 100 loss: 1688.64084103\n",
      "Epoch 150 loss: 1588.42197973\n",
      "Epoch 200 loss: 1557.79712726\n",
      "Epoch 250 loss: 1547.48592015\n",
      "Epoch 300 loss: 1543.73469017\n",
      "Epoch 350 loss: 1542.26147655\n",
      "Epoch 400 loss: 1541.62666498\n",
      "Epoch 450 loss: 1541.31971457\n",
      "Epoch 500 loss: 1541.15142598\n",
      "Epoch 550 loss: 1541.04819128\n",
      "Epoch 600 loss: 1540.97941399\n",
      "Epoch 650 loss: 1540.93114513\n",
      "Epoch 700 loss: 1540.89624896\n",
      "Epoch 750 loss: 1540.87061455\n",
      "Epoch 800 loss: 1540.85162621\n",
      "Epoch 850 loss: 1540.83750049\n",
      "Epoch 900 loss: 1540.82696914\n",
      "Epoch 950 loss: 1540.81910882\n"
     ]
    }
   ],
   "source": [
    "initRate = 0.0001\n",
    "learningRate = initRate\n",
    "\n",
    "numEpoch = 1000\n",
    "lossList = []\n",
    "for epoch in range(numEpoch):\n",
    "    # forward\n",
    "    hyp = XTrain1@theta1\n",
    "    MSE = 0.5/yTrain1.shape[0]*sum((hyp-yTrain1)**2)\n",
    "    grad = (hyp-yTrain1)@XTrain1\n",
    "    theta1 -= learningRate*grad\n",
    "    if epoch % 50 == 0:\n",
    "        print('Epoch', epoch, 'loss:', MSE)"
   ]
  },
  {
   "cell_type": "code",
   "execution_count": 97,
   "metadata": {},
   "outputs": [
    {
     "name": "stdout",
     "output_type": "stream",
     "text": [
      "test error using gradient descent:  2664.34395049\n"
     ]
    }
   ],
   "source": [
    "# calculate the testing error of theta and compare it with algebraic solution\n",
    "hypTest = XTest1@theta1\n",
    "MSETest = 0.5/yTest1.shape[0]*sum((hypTest-yTest1)**2)\n",
    "print(\"test error using gradient descent: \", MSETest)"
   ]
  },
  {
   "cell_type": "markdown",
   "metadata": {},
   "source": [
    "- ### 第二次实验：全部字段进行模型构建 "
   ]
  },
  {
   "cell_type": "code",
   "execution_count": 107,
   "metadata": {},
   "outputs": [
    {
     "data": {
      "text/html": [
       "<div>\n",
       "<style>\n",
       "    .dataframe thead tr:only-child th {\n",
       "        text-align: right;\n",
       "    }\n",
       "\n",
       "    .dataframe thead th {\n",
       "        text-align: left;\n",
       "    }\n",
       "\n",
       "    .dataframe tbody tr th {\n",
       "        vertical-align: top;\n",
       "    }\n",
       "</style>\n",
       "<table border=\"1\" class=\"dataframe\">\n",
       "  <thead>\n",
       "    <tr style=\"text-align: right;\">\n",
       "      <th></th>\n",
       "      <th>vendor</th>\n",
       "      <th>name</th>\n",
       "      <th>MYCT</th>\n",
       "      <th>MMIN</th>\n",
       "      <th>MMAX</th>\n",
       "      <th>CACH</th>\n",
       "      <th>CHMIN</th>\n",
       "      <th>CHMAX</th>\n",
       "    </tr>\n",
       "  </thead>\n",
       "  <tbody>\n",
       "    <tr>\n",
       "      <th>0</th>\n",
       "      <td>adviser</td>\n",
       "      <td>32/60</td>\n",
       "      <td>125</td>\n",
       "      <td>256</td>\n",
       "      <td>6000</td>\n",
       "      <td>256</td>\n",
       "      <td>16</td>\n",
       "      <td>128</td>\n",
       "    </tr>\n",
       "    <tr>\n",
       "      <th>1</th>\n",
       "      <td>amdahl</td>\n",
       "      <td>470v/7</td>\n",
       "      <td>29</td>\n",
       "      <td>8000</td>\n",
       "      <td>32000</td>\n",
       "      <td>32</td>\n",
       "      <td>8</td>\n",
       "      <td>32</td>\n",
       "    </tr>\n",
       "    <tr>\n",
       "      <th>2</th>\n",
       "      <td>amdahl</td>\n",
       "      <td>470v/7a</td>\n",
       "      <td>29</td>\n",
       "      <td>8000</td>\n",
       "      <td>32000</td>\n",
       "      <td>32</td>\n",
       "      <td>8</td>\n",
       "      <td>32</td>\n",
       "    </tr>\n",
       "    <tr>\n",
       "      <th>3</th>\n",
       "      <td>amdahl</td>\n",
       "      <td>470v/7b</td>\n",
       "      <td>29</td>\n",
       "      <td>8000</td>\n",
       "      <td>32000</td>\n",
       "      <td>32</td>\n",
       "      <td>8</td>\n",
       "      <td>32</td>\n",
       "    </tr>\n",
       "    <tr>\n",
       "      <th>4</th>\n",
       "      <td>amdahl</td>\n",
       "      <td>470v/7c</td>\n",
       "      <td>29</td>\n",
       "      <td>8000</td>\n",
       "      <td>16000</td>\n",
       "      <td>32</td>\n",
       "      <td>8</td>\n",
       "      <td>16</td>\n",
       "    </tr>\n",
       "  </tbody>\n",
       "</table>\n",
       "</div>"
      ],
      "text/plain": [
       "    vendor     name  MYCT  MMIN   MMAX  CACH  CHMIN  CHMAX\n",
       "0  adviser    32/60   125   256   6000   256     16    128\n",
       "1   amdahl   470v/7    29  8000  32000    32      8     32\n",
       "2   amdahl  470v/7a    29  8000  32000    32      8     32\n",
       "3   amdahl  470v/7b    29  8000  32000    32      8     32\n",
       "4   amdahl  470v/7c    29  8000  16000    32      8     16"
      ]
     },
     "execution_count": 107,
     "metadata": {},
     "output_type": "execute_result"
    }
   ],
   "source": [
    "cpu_X.iloc[:, :].head()"
   ]
  },
  {
   "cell_type": "code",
   "execution_count": 24,
   "metadata": {
    "jupyter": {
     "source_hidden": true
    }
   },
   "outputs": [],
   "source": [
    "cpu_X.iloc[:, 0] = pre.LabelEncoder().fit_transform(cpu_X.iloc[:, 0])"
   ]
  },
  {
   "cell_type": "code",
   "execution_count": 108,
   "metadata": {},
   "outputs": [],
   "source": [
    "cpu_X.iloc[:, 0] = pre.LabelEncoder().fit_transform(cpu_X.iloc[:, 0])\n",
    "cpu_X.iloc[:, 1] = pre.LabelEncoder().fit_transform(cpu_X.iloc[:, 1])"
   ]
  },
  {
   "cell_type": "code",
   "execution_count": 109,
   "metadata": {},
   "outputs": [],
   "source": [
    "cpu_X, cpu_y2 = np.array(cpu_X), np.array(cpu_y)"
   ]
  },
  {
   "cell_type": "code",
   "execution_count": 110,
   "metadata": {},
   "outputs": [
    {
     "data": {
      "text/plain": [
       "dtype('int64')"
      ]
     },
     "execution_count": 110,
     "metadata": {},
     "output_type": "execute_result"
    }
   ],
   "source": [
    "cpu_X.dtype"
   ]
  },
  {
   "cell_type": "code",
   "execution_count": 111,
   "metadata": {},
   "outputs": [],
   "source": [
    "XTrain2, XTest2, yTrain2, yTest2 = train_test_split(cpu_X, cpu_y, test_size=0.3, random_state=10)\n",
    "featMean2, featStd2 = np.mean(XTrain2, axis=0), np.std(XTrain2, axis=0)\n",
    "XTrain2 = (XTrain2 - featMean2) / featStd2\n",
    "XTest2 = (XTest2 - featMean2) / featStd2"
   ]
  },
  {
   "cell_type": "code",
   "execution_count": 113,
   "metadata": {},
   "outputs": [
    {
     "name": "stdout",
     "output_type": "stream",
     "text": [
      "(146, 8)\n",
      "(8,)\n"
     ]
    }
   ],
   "source": [
    "print(XTrain2.shape)\n",
    "print(featMean2.shape)"
   ]
  },
  {
   "cell_type": "code",
   "execution_count": 117,
   "metadata": {},
   "outputs": [],
   "source": [
    "theta2 = np.zeros(XTrain2.shape[1]+1)\n",
    "\n",
    "# Concatenate X with a new dimension for bias\n",
    "XTrain2 = np.concatenate((np.ones((XTrain2.shape[0], 1)), XTrain2), axis=1)\n",
    "XTest2 = np.concatenate((np.ones((XTest2.shape[0], 1)), XTest2), axis=1)"
   ]
  },
  {
   "cell_type": "code",
   "execution_count": 118,
   "metadata": {},
   "outputs": [
    {
     "name": "stdout",
     "output_type": "stream",
     "text": [
      "Epoch 0 loss: 18069.8184932\n",
      "Epoch 50 loss: 2305.99649681\n",
      "Epoch 100 loss: 1692.24165346\n",
      "Epoch 150 loss: 1588.86971857\n",
      "Epoch 200 loss: 1555.07491639\n",
      "Epoch 250 loss: 1541.36310387\n",
      "Epoch 300 loss: 1535.10246863\n",
      "Epoch 350 loss: 1531.96332712\n",
      "Epoch 400 loss: 1530.26444664\n",
      "Epoch 450 loss: 1529.28732991\n",
      "Epoch 500 loss: 1528.69716733\n",
      "Epoch 550 loss: 1528.32594944\n",
      "Epoch 600 loss: 1528.08417539\n",
      "Epoch 650 loss: 1527.92184776\n",
      "Epoch 700 loss: 1527.80992968\n",
      "Epoch 750 loss: 1527.73098086\n",
      "Epoch 800 loss: 1527.67420001\n",
      "Epoch 850 loss: 1527.63270128\n",
      "Epoch 900 loss: 1527.60197249\n",
      "Epoch 950 loss: 1527.57897919\n"
     ]
    }
   ],
   "source": [
    "learningRate2 = 0.0001\n",
    "# hyp = XTrain@theta\n",
    "# MSE = 0.5/yTrain.shape[0]*sum((hyp-yTrain)**2)\n",
    "# grad = (hyp-yTrain)@XTrain\n",
    "# theta -= learningRate*grad\n",
    "\n",
    "# train a linear model using SGD\n",
    "\n",
    "numEpoch = 1000\n",
    "lossList = []\n",
    "for epoch in range(numEpoch):\n",
    "    # forward\n",
    "    hyp2 = XTrain2@theta2\n",
    "    MSE2 = 0.5/yTrain2.shape[0]*sum((hyp2-yTrain2)**2)\n",
    "    grad2 = (hyp2-yTrain2)@XTrain2\n",
    "    theta2 -= learningRate2*grad2\n",
    "    if epoch % 50 == 0:\n",
    "        print('Epoch', epoch, 'loss:', MSE2)"
   ]
  },
  {
   "cell_type": "code",
   "execution_count": 121,
   "metadata": {},
   "outputs": [
    {
     "name": "stdout",
     "output_type": "stream",
     "text": [
      "test error using gradient descent:  2631.60369625\n"
     ]
    }
   ],
   "source": [
    "hypTest2 = XTest2@theta2\n",
    "MSETest2 = 0.5/yTest2.shape[0]*sum((hypTest2-yTest2)**2)\n",
    "print(\"test error using gradient descent: \", MSETest2)"
   ]
  },
  {
   "cell_type": "markdown",
   "metadata": {},
   "source": [
    "### 结果"
   ]
  },
  {
   "cell_type": "markdown",
   "metadata": {},
   "source": [
    "结果表明，`name`字段对于结果的预测有一定的帮助，但是过多的编码在遇到过多数据用于训练时，如name字段有209个数据则可能造成模型的爆炸，未来可以考虑先进性特征工程，对于`name`与`vendor`字段进行数据分析，优化模型"
   ]
  }
 ],
 "metadata": {
  "kernelspec": {
   "display_name": "Python 3",
   "language": "python",
   "name": "python3"
  },
  "language_info": {
   "codemirror_mode": {
    "name": "ipython",
    "version": 3
   },
   "file_extension": ".py",
   "mimetype": "text/x-python",
   "name": "python",
   "nbconvert_exporter": "python",
   "pygments_lexer": "ipython3",
   "version": "3.6.2"
  },
  "toc": {
   "base_numbering": 1,
   "nav_menu": {},
   "number_sections": true,
   "sideBar": true,
   "skip_h1_title": false,
   "title_cell": "Table of Contents",
   "title_sidebar": "Contents",
   "toc_cell": false,
   "toc_position": {},
   "toc_section_display": true,
   "toc_window_display": false
  }
 },
 "nbformat": 4,
 "nbformat_minor": 4
}
